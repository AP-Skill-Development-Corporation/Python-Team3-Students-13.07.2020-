{
 "cells": [
  {
   "cell_type": "markdown",
   "metadata": {},
   "source": [
    "## Packages and Modules Using OOPs"
   ]
  },
  {
   "cell_type": "markdown",
   "metadata": {},
   "source": [
    "## Package(Folder)\n",
    "- It is collection of Modules\n",
    "\n",
    "## Module:\n",
    "\n",
    "- i.e.., .py files\n",
    "- Collection of functions or classes\n",
    "- group of functions and classes\n",
    "- for accessing modules we are using import keyword\n",
    "- for accessing modules we have few different ways\n",
    "    - import mymodule\n",
    "    - from mymodule import classname(calc)\n",
    "    - from mymodule.calc import add\n",
    "    - from mymodule.calc import *"
   ]
  },
  {
   "cell_type": "code",
   "execution_count": 3,
   "metadata": {},
   "outputs": [
    {
     "name": "stdout",
     "output_type": "stream",
     "text": [
      "9\n",
      "-1\n",
      "20\n",
      "0.8\n",
      "4\n",
      "1024\n"
     ]
    }
   ],
   "source": [
    "from mypackage.mymodule import *\n",
    "myobj=calc\n",
    "print(myobj.add(4,5))\n",
    "print(myobj.sub(4,5))\n",
    "print(myobj.mul(4,5))\n",
    "print(myobj.div(4,5))\n",
    "print(myobj.moddiv(4,5))\n",
    "print(myobj.power(4,5))"
   ]
  },
  {
   "cell_type": "code",
   "execution_count": 2,
   "metadata": {},
   "outputs": [
    {
     "name": "stdout",
     "output_type": "stream",
     "text": [
      "False\n",
      "True\n"
     ]
    }
   ],
   "source": [
    "from mypackage.mymodule import Math  # here math is class name\n",
    "myobj1=Math\n",
    "print(myobj1.IsEven(9))\n",
    "print(myobj1.IsEven(36))"
   ]
  },
  {
   "cell_type": "code",
   "execution_count": 3,
   "metadata": {},
   "outputs": [
    {
     "name": "stdout",
     "output_type": "stream",
     "text": [
      "False\n",
      "True\n"
     ]
    }
   ],
   "source": [
    "from mypackage.mymodule import * # here * is using to call all classes\n",
    "myobj1=Math\n",
    "print(myobj1.IsEven(9))\n",
    "print(myobj1.IsEven(36))"
   ]
  },
  {
   "cell_type": "code",
   "execution_count": 6,
   "metadata": {},
   "outputs": [
    {
     "name": "stdout",
     "output_type": "stream",
     "text": [
      "False\n",
      "True\n",
      "enter any number45\n",
      "False\n",
      "enter any number67\n",
      "True\n"
     ]
    }
   ],
   "source": [
    "from mypackage.mymodule import *\n",
    "myobj1=Math\n",
    "print(myobj1.IsEven(9))\n",
    "print(myobj1.IsEven(36))\n",
    "print(myobj1.IsEven(int(input(\"enter any number\"))))\n",
    "print(myobj1.IsOdd(int(input(\"enter any number\"))))\n"
   ]
  },
  {
   "cell_type": "code",
   "execution_count": 3,
   "metadata": {},
   "outputs": [
    {
     "name": "stdout",
     "output_type": "stream",
     "text": [
      "False\n",
      "True\n",
      "enter any number7\n",
      "False\n",
      "enter any number9\n",
      "True\n",
      "9\n",
      "-1\n",
      "20\n",
      "0.8\n",
      "4\n",
      "1024\n"
     ]
    }
   ],
   "source": [
    "from mypackage.mymodule import *\n",
    "myobj1=Math\n",
    "myobj2=calc\n",
    "print(myobj1.IsEven(9))\n",
    "print(myobj1.IsEven(36))\n",
    "print(myobj1.IsEven(int(input(\"enter any number\"))))\n",
    "print(myobj1.IsOdd(int(input(\"enter any number\"))))\n",
    "print(myobj2.add(4,5))\n",
    "print(myobj2.sub(4,5))\n",
    "print(myobj2.mul(4,5))\n",
    "print(myobj2.div(4,5))\n",
    "print(myobj2.moddiv(4,5))\n",
    "print(myobj2.power(4,5))"
   ]
  },
  {
   "cell_type": "code",
   "execution_count": 3,
   "metadata": {},
   "outputs": [
    {
     "name": "stdout",
     "output_type": "stream",
     "text": [
      "9\n",
      "-1\n",
      "20\n",
      "0.8\n",
      "4\n",
      "1024\n"
     ]
    }
   ],
   "source": [
    "from mypackage.mymodule import *\n",
    "myobj2=mycalc(4,5)\n",
    "print(myobj2.__add__())\n",
    "print(myobj2.__sub__())\n",
    "print(myobj2.__mul__())\n",
    "print(myobj2.__div__())\n",
    "print(myobj2.__moddiv__())\n",
    "print(myobj2.__power__())"
   ]
  },
  {
   "cell_type": "code",
   "execution_count": 9,
   "metadata": {},
   "outputs": [
    {
     "name": "stdout",
     "output_type": "stream",
     "text": [
      "2000 leapyear\n",
      "2001 not leapyear\n",
      "2002 not leapyear\n",
      "2003 not leapyear\n",
      "2004 leapyear\n",
      "2005 not leapyear\n",
      "2006 not leapyear\n",
      "2007 not leapyear\n",
      "2008 leapyear\n",
      "2009 not leapyear\n",
      "2010 not leapyear\n",
      "2011 not leapyear\n",
      "2012 leapyear\n",
      "2013 not leapyear\n",
      "2014 not leapyear\n",
      "2015 not leapyear\n",
      "2016 leapyear\n",
      "2017 not leapyear\n",
      "2018 not leapyear\n",
      "2019 not leapyear\n",
      "2020 leapyear\n",
      "None\n"
     ]
    }
   ],
   "source": [
    "# with using class and object\n",
    "from mypackage.myModule2 import*\n",
    "myobj4=classname\n",
    "print(myobj4.Leapyear(2000,2020))"
   ]
  },
  {
   "cell_type": "code",
   "execution_count": 8,
   "metadata": {},
   "outputs": [
    {
     "name": "stdout",
     "output_type": "stream",
     "text": [
      "2000 leapyear\n",
      "2001 not leapyear\n",
      "2002 not leapyear\n",
      "2003 not leapyear\n",
      "2004 leapyear\n",
      "2005 not leapyear\n",
      "2006 not leapyear\n",
      "2007 not leapyear\n",
      "2008 leapyear\n",
      "2009 not leapyear\n",
      "2010 not leapyear\n",
      "2011 not leapyear\n",
      "2012 leapyear\n",
      "2013 not leapyear\n",
      "2014 not leapyear\n",
      "2015 not leapyear\n",
      "2016 leapyear\n",
      "2017 not leapyear\n",
      "2018 not leapyear\n",
      "2019 not leapyear\n",
      "2020 leapyear\n",
      "Leapyears are: None\n"
     ]
    }
   ],
   "source": [
    "# with out using class and object\n",
    "\n",
    "from mypackage.myModule2 import *\n",
    "print(\"Leapyears are:\",Leapyear1(2000,2020))"
   ]
  },
  {
   "cell_type": "code",
   "execution_count": 10,
   "metadata": {},
   "outputs": [
    {
     "name": "stdout",
     "output_type": "stream",
     "text": [
      "2000 leapyear\n",
      "2001 not leapyear\n",
      "2002 not leapyear\n",
      "2003 not leapyear\n",
      "2004 leapyear\n",
      "2005 not leapyear\n",
      "2006 not leapyear\n",
      "2007 not leapyear\n",
      "2008 leapyear\n",
      "2009 not leapyear\n",
      "2010 not leapyear\n",
      "2011 not leapyear\n",
      "2012 leapyear\n",
      "2013 not leapyear\n",
      "2014 not leapyear\n",
      "2015 not leapyear\n",
      "2016 leapyear\n",
      "2017 not leapyear\n",
      "2018 not leapyear\n",
      "2019 not leapyear\n",
      "2020 leapyear\n",
      "None\n",
      "False\n",
      "True\n"
     ]
    }
   ],
   "source": [
    "# with using class and object\n",
    "from mypackage.myModule2 import*\n",
    "from mypackage.mymodule import *\n",
    "myobj4=classname\n",
    "print(myobj4.Leapyear(2000,2020))\n",
    "myobj1=Math\n",
    "print(myobj1.IsEven(9))\n",
    "print(myobj1.IsEven(36))"
   ]
  },
  {
   "cell_type": "code",
   "execution_count": null,
   "metadata": {},
   "outputs": [],
   "source": []
  }
 ],
 "metadata": {
  "kernelspec": {
   "display_name": "Python 3",
   "language": "python",
   "name": "python3"
  }
 },
 "nbformat": 4,
 "nbformat_minor": 2
}
