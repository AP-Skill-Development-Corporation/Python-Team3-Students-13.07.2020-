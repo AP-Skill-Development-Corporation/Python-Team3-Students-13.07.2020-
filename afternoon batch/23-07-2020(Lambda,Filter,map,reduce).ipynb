{
 "cells": [
  {
   "cell_type": "markdown",
   "metadata": {},
   "source": [
    "# Today topics(Functional Programming)\n",
    "### Lambda()\n",
    "###  filter()\n",
    "### map()\n",
    "### Reduce()"
   ]
  },
  {
   "cell_type": "markdown",
   "metadata": {},
   "source": [
    "# Lambda():\n",
    "- This is a lambda operator or a lambda function is a way to create small anonymus functions\n",
    "- Throw away functions \n",
    "- combination of map(),filter(),reduce()\n",
    "- syn:\n",
    "- lambda arg1,arg2.......:\n",
    "     exp\n",
    "     \n",
    "     \n",
    "    \n"
   ]
  },
  {
   "cell_type": "code",
   "execution_count": 1,
   "metadata": {},
   "outputs": [
    {
     "data": {
      "text/plain": [
       "70"
      ]
     },
     "execution_count": 1,
     "metadata": {},
     "output_type": "execute_result"
    }
   ],
   "source": [
    "# addition program\n",
    "30+40"
   ]
  },
  {
   "cell_type": "code",
   "execution_count": 2,
   "metadata": {},
   "outputs": [
    {
     "data": {
      "text/plain": [
       "70"
      ]
     },
     "execution_count": 2,
     "metadata": {},
     "output_type": "execute_result"
    }
   ],
   "source": [
    "# adition pro with function\n",
    "def add1(a,b):\n",
    "    return a+b\n",
    "add1(30,40)\n",
    "\n"
   ]
  },
  {
   "cell_type": "code",
   "execution_count": 3,
   "metadata": {},
   "outputs": [
    {
     "data": {
      "text/plain": [
       "function"
      ]
     },
     "execution_count": 3,
     "metadata": {},
     "output_type": "execute_result"
    }
   ],
   "source": [
    "type(add1)"
   ]
  },
  {
   "cell_type": "code",
   "execution_count": 10,
   "metadata": {},
   "outputs": [],
   "source": [
    "add2=lambda a,b :a+b "
   ]
  },
  {
   "cell_type": "code",
   "execution_count": 11,
   "metadata": {},
   "outputs": [
    {
     "data": {
      "text/plain": [
       "70"
      ]
     },
     "execution_count": 11,
     "metadata": {},
     "output_type": "execute_result"
    }
   ],
   "source": [
    "add2(30,40)"
   ]
  },
  {
   "cell_type": "code",
   "execution_count": 12,
   "metadata": {},
   "outputs": [
    {
     "data": {
      "text/plain": [
       "function"
      ]
     },
     "execution_count": 12,
     "metadata": {},
     "output_type": "execute_result"
    }
   ],
   "source": [
    "type(add2)"
   ]
  },
  {
   "cell_type": "code",
   "execution_count": 7,
   "metadata": {},
   "outputs": [],
   "source": [
    "add3=30+40"
   ]
  },
  {
   "cell_type": "code",
   "execution_count": 8,
   "metadata": {},
   "outputs": [
    {
     "data": {
      "text/plain": [
       "70"
      ]
     },
     "execution_count": 8,
     "metadata": {},
     "output_type": "execute_result"
    }
   ],
   "source": [
    "add3"
   ]
  },
  {
   "cell_type": "code",
   "execution_count": 9,
   "metadata": {},
   "outputs": [
    {
     "data": {
      "text/plain": [
       "int"
      ]
     },
     "execution_count": 9,
     "metadata": {},
     "output_type": "execute_result"
    }
   ],
   "source": [
    "type(add3)"
   ]
  },
  {
   "cell_type": "code",
   "execution_count": 13,
   "metadata": {},
   "outputs": [
    {
     "data": {
      "text/plain": [
       "<function __main__.<lambda>(a, b)>"
      ]
     },
     "execution_count": 13,
     "metadata": {},
     "output_type": "execute_result"
    }
   ],
   "source": [
    "lambda a,b :a+b  # Lambda it self returns a function object"
   ]
  },
  {
   "cell_type": "code",
   "execution_count": 14,
   "metadata": {},
   "outputs": [
    {
     "data": {
      "text/plain": [
       "1953125"
      ]
     },
     "execution_count": 14,
     "metadata": {},
     "output_type": "execute_result"
    }
   ],
   "source": [
    "5**9"
   ]
  },
  {
   "cell_type": "code",
   "execution_count": 15,
   "metadata": {},
   "outputs": [
    {
     "data": {
      "text/plain": [
       "1953125"
      ]
     },
     "execution_count": 15,
     "metadata": {},
     "output_type": "execute_result"
    }
   ],
   "source": [
    "power=lambda c,d:c**d\n",
    "power(5,9)"
   ]
  },
  {
   "cell_type": "markdown",
   "metadata": {},
   "source": [
    "### Using \"if else\" in lambda function"
   ]
  },
  {
   "cell_type": "code",
   "execution_count": 18,
   "metadata": {},
   "outputs": [
    {
     "data": {
      "text/plain": [
       "True"
      ]
     },
     "execution_count": 18,
     "metadata": {},
     "output_type": "execute_result"
    }
   ],
   "source": [
    "def greatest(e):\n",
    "    if e>290  and e<360:\n",
    "        return True\n",
    "    else:\n",
    "        return False\n",
    "    \n",
    "greatest(310)\n",
    "    "
   ]
  },
  {
   "cell_type": "code",
   "execution_count": 19,
   "metadata": {},
   "outputs": [
    {
     "data": {
      "text/plain": [
       "False"
      ]
     },
     "execution_count": 19,
     "metadata": {},
     "output_type": "execute_result"
    }
   ],
   "source": [
    "greatest(36)"
   ]
  },
  {
   "cell_type": "code",
   "execution_count": 20,
   "metadata": {},
   "outputs": [],
   "source": [
    "g=lambda f:True if (f>290  and f<360) else False"
   ]
  },
  {
   "cell_type": "code",
   "execution_count": 21,
   "metadata": {},
   "outputs": [
    {
     "data": {
      "text/plain": [
       "True"
      ]
     },
     "execution_count": 21,
     "metadata": {},
     "output_type": "execute_result"
    }
   ],
   "source": [
    "g(310)"
   ]
  },
  {
   "cell_type": "code",
   "execution_count": 22,
   "metadata": {},
   "outputs": [
    {
     "data": {
      "text/plain": [
       "False"
      ]
     },
     "execution_count": 22,
     "metadata": {},
     "output_type": "execute_result"
    }
   ],
   "source": [
    "g(36)"
   ]
  },
  {
   "cell_type": "code",
   "execution_count": 23,
   "metadata": {},
   "outputs": [
    {
     "data": {
      "text/plain": [
       "function"
      ]
     },
     "execution_count": 23,
     "metadata": {},
     "output_type": "execute_result"
    }
   ],
   "source": [
    "type(g)"
   ]
  },
  {
   "cell_type": "markdown",
   "metadata": {},
   "source": [
    "## Without using \"if else\" keyword in lambda"
   ]
  },
  {
   "cell_type": "code",
   "execution_count": 27,
   "metadata": {},
   "outputs": [],
   "source": [
    "g1=lambda f1:(f1>290  and f1<360) "
   ]
  },
  {
   "cell_type": "code",
   "execution_count": 28,
   "metadata": {},
   "outputs": [
    {
     "data": {
      "text/plain": [
       "True"
      ]
     },
     "execution_count": 28,
     "metadata": {},
     "output_type": "execute_result"
    }
   ],
   "source": [
    "g1(310)"
   ]
  },
  {
   "cell_type": "code",
   "execution_count": 29,
   "metadata": {},
   "outputs": [
    {
     "data": {
      "text/plain": [
       "False"
      ]
     },
     "execution_count": 29,
     "metadata": {},
     "output_type": "execute_result"
    }
   ],
   "source": [
    "g1(36)"
   ]
  },
  {
   "cell_type": "code",
   "execution_count": 30,
   "metadata": {},
   "outputs": [
    {
     "data": {
      "text/plain": [
       "function"
      ]
     },
     "execution_count": 30,
     "metadata": {},
     "output_type": "execute_result"
    }
   ],
   "source": [
    "type(g1)"
   ]
  },
  {
   "cell_type": "markdown",
   "metadata": {},
   "source": [
    "## Map()\n",
    "- It applies a given function to all iterables and returns a new list\n",
    "- syn:\n",
    "- map(function,iterables)\n",
    "    - iterables:\n",
    "        - userdefined\n",
    "        - lambda \n",
    "    "
   ]
  },
  {
   "cell_type": "code",
   "execution_count": 56,
   "metadata": {},
   "outputs": [
    {
     "name": "stdout",
     "output_type": "stream",
     "text": [
      "<map object at 0x0000020A24979240>\n"
     ]
    }
   ],
   "source": [
    "# User defined\n",
    "\n",
    "def new(a):\n",
    "    return a*a\n",
    "x=map(new,[1,2,3,4,5,6,7,8,9])\n",
    "print(x)"
   ]
  },
  {
   "cell_type": "code",
   "execution_count": 57,
   "metadata": {},
   "outputs": [
    {
     "name": "stdout",
     "output_type": "stream",
     "text": [
      "[1, 4, 9, 16, 25, 36, 49, 64, 81]\n"
     ]
    }
   ],
   "source": [
    "print(list(x))"
   ]
  },
  {
   "cell_type": "code",
   "execution_count": 33,
   "metadata": {},
   "outputs": [
    {
     "name": "stdout",
     "output_type": "stream",
     "text": [
      "()\n"
     ]
    }
   ],
   "source": [
    "print(tuple(x))"
   ]
  },
  {
   "cell_type": "code",
   "execution_count": 34,
   "metadata": {},
   "outputs": [
    {
     "name": "stdout",
     "output_type": "stream",
     "text": [
      "set()\n"
     ]
    }
   ],
   "source": [
    "print(set(x))"
   ]
  },
  {
   "cell_type": "code",
   "execution_count": 41,
   "metadata": {},
   "outputs": [
    {
     "name": "stdout",
     "output_type": "stream",
     "text": [
      "[9, 16, 21, 24, 25, 24, 21, 16, 9]\n"
     ]
    }
   ],
   "source": [
    "# Using multi iterables\n",
    "def new1(a1,b1):\n",
    "    return a1*b1\n",
    "x1=map(new1,[1,2,3,4,5,6,7,8,9],[9,8,7,6,5,4,3,2,1])\n",
    "print(list(x1))"
   ]
  },
  {
   "cell_type": "markdown",
   "metadata": {},
   "source": [
    "### Lambda with map() function"
   ]
  },
  {
   "cell_type": "code",
   "execution_count": 48,
   "metadata": {},
   "outputs": [],
   "source": [
    "mylist=[1,2,3,4,5,6,7,8,9]\n",
    "x2=list(map(lambda x3:x3+3 ,mylist))\n",
    "x22=tuple(map(lambda x3:x3+3 ,mylist))\n",
    "x222=set(map(lambda x3:x3+3 ,mylist))"
   ]
  },
  {
   "cell_type": "code",
   "execution_count": 51,
   "metadata": {},
   "outputs": [
    {
     "name": "stdout",
     "output_type": "stream",
     "text": [
      "[4, 5, 6, 7, 8, 9, 10, 11, 12]\n",
      "(4, 5, 6, 7, 8, 9, 10, 11, 12)\n",
      "{4, 5, 6, 7, 8, 9, 10, 11, 12}\n"
     ]
    }
   ],
   "source": [
    "print((x2))\n",
    "print(x22)\n",
    "print(x222)"
   ]
  },
  {
   "cell_type": "markdown",
   "metadata": {},
   "source": [
    "### Filter()\n",
    "- Creates an output list consisting of values for which the function returns True\n",
    "- syn:\n",
    "- filter(function,Iterable)"
   ]
  },
  {
   "cell_type": "code",
   "execution_count": 61,
   "metadata": {},
   "outputs": [
    {
     "name": "stdout",
     "output_type": "stream",
     "text": [
      "<filter object at 0x0000020A2498F128>\n",
      "[4, 5, 6, 7, 8, 9]\n",
      "()\n",
      "set()\n"
     ]
    }
   ],
   "source": [
    "def new3(i):\n",
    "    if i>3:\n",
    "        return i\n",
    "j=filter(new3,{1,2,3,4,5,6,7,8,9})\n",
    "print(j)\n",
    "print(list(j))\n",
    "print(tuple(j))\n",
    "print(set(j))"
   ]
  },
  {
   "cell_type": "markdown",
   "metadata": {},
   "source": [
    "### filter with lambda"
   ]
  },
  {
   "cell_type": "code",
   "execution_count": 73,
   "metadata": {},
   "outputs": [],
   "source": [
    "a7=[1,2,3,4,5,67,8,9]\n",
    "x3=filter(lambda i1:(i1>3),a7)"
   ]
  },
  {
   "cell_type": "code",
   "execution_count": 74,
   "metadata": {},
   "outputs": [
    {
     "name": "stdout",
     "output_type": "stream",
     "text": [
      "[4, 5, 67, 8, 9]\n",
      "()\n",
      "set()\n"
     ]
    }
   ],
   "source": [
    "print(list(x3))\n",
    "print(tuple(x3))\n",
    "print(set(x3))"
   ]
  },
  {
   "cell_type": "markdown",
   "metadata": {},
   "source": [
    "## Filter with map"
   ]
  },
  {
   "cell_type": "code",
   "execution_count": 105,
   "metadata": {},
   "outputs": [
    {
     "name": "stdout",
     "output_type": "stream",
     "text": [
      "[8, 10, 134, 16, 18]\n"
     ]
    }
   ],
   "source": [
    "a8=[1,2,3,4,5,67,8,9]\n",
    "x4=map(lambda x:x+x,filter(lambda i1:(i1>3),a8))\n",
    "print(list(x4))\n",
    "\n"
   ]
  },
  {
   "cell_type": "markdown",
   "metadata": {},
   "source": [
    "## Map with filter"
   ]
  },
  {
   "cell_type": "code",
   "execution_count": 109,
   "metadata": {},
   "outputs": [
    {
     "name": "stdout",
     "output_type": "stream",
     "text": [
      "[4, 6, 8, 10, 134, 16, 18]\n"
     ]
    }
   ],
   "source": [
    "a8=[1,2,3,4,5,67,8,9]\n",
    "x5=filter(lambda i1:(i1>3),map(lambda x:x+x,a8))\n",
    "print(list(x5))"
   ]
  },
  {
   "cell_type": "markdown",
   "metadata": {},
   "source": [
    "### Reduce()\n",
    "- [1,2,3,4,5]\n",
    "x=1\n",
    "1+2=3\n",
    "x=3\n",
    "3+3=6\n",
    "x=6\n",
    "6+4=10\n",
    "x=10\n",
    "10+5=15\n",
    "\n",
    "o/p=15"
   ]
  },
  {
   "cell_type": "markdown",
   "metadata": {},
   "source": [
    "### Reduce:\n",
    "- Applies a given function to the iterables and returns a single value\n",
    "- syn:\n",
    "- reduce(function,iterables)"
   ]
  },
  {
   "cell_type": "code",
   "execution_count": 85,
   "metadata": {},
   "outputs": [
    {
     "data": {
      "text/plain": [
       "15"
      ]
     },
     "execution_count": 85,
     "metadata": {},
     "output_type": "execute_result"
    }
   ],
   "source": [
    "from functools import reduce\n",
    "def a(x,y):\n",
    "    return x+y\n",
    "reduce(a,[1,2,3,4,5])\n",
    "\n",
    "#print(list(re))\n",
    "#print(tuples(re))"
   ]
  },
  {
   "cell_type": "markdown",
   "metadata": {},
   "source": [
    "###  using with lambda"
   ]
  },
  {
   "cell_type": "code",
   "execution_count": 115,
   "metadata": {},
   "outputs": [
    {
     "data": {
      "text/plain": [
       "15"
      ]
     },
     "execution_count": 115,
     "metadata": {},
     "output_type": "execute_result"
    }
   ],
   "source": [
    "reduce(lambda x11,y11:x11+y11,[1,2,3,4,5])"
   ]
  },
  {
   "cell_type": "markdown",
   "metadata": {},
   "source": [
    "### Using map(),filter with reduce"
   ]
  },
  {
   "cell_type": "code",
   "execution_count": 128,
   "metadata": {},
   "outputs": [
    {
     "data": {
      "text/plain": [
       "12"
      ]
     },
     "execution_count": 128,
     "metadata": {},
     "output_type": "execute_result"
    }
   ],
   "source": [
    "redu=reduce(lambda x,y:x+y,map(lambda x:x+x,filter(lambda x:(x<4),[1,2,3,4,5,6,7,8])))\n",
    "redu\n",
    "# [1,2,3] #filter\n",
    "# 2,4,6  #map\n",
    "# 2+4=6\n",
    "# 6+6\n",
    "# 12\n"
   ]
  },
  {
   "cell_type": "code",
   "execution_count": null,
   "metadata": {},
   "outputs": [],
   "source": [
    "### TASK 1. [\"indupriya\",\"Lucky\",\"mouni\",\"Rani\",\"arun\",\"Narayana\"] Using  map \n",
    "o/p:[\"INDUPRIYA\",\"LUCKY\",\"MOUNI\",\"RANI\",\"ARUN\",\"NARAYANA\"]\n",
    "    \n",
    "    \n",
    "### TASK 2. [1.56,2.45,6.787979,2.23435]\n",
    "O/P: [1,2,7,2] -ROUND VALUES\n",
    "    \n",
    "### TASK3 (using zip)\n",
    "Name=[\"indu\",\"priya\",\"Lucky\",\"mouni\"]\n",
    "desig=[\"Technical skill Trainer\",\"DBA\",\"Front end Developer\"]\n",
    "o/p:\n",
    "{\"indu\":\"Technical skill Trainer\",\"priya\":\"DBA\",\"mouni\":\"Front end Developer\"}\n",
    "\n",
    "\n",
    "### TASK4(without using zip)\n",
    "Name=[\"indu\",\"priya\",\"Lucky\",\"mouni\"]\n",
    "desig=[\"Technical skill Trainer\",\"DBA\",\"Front end Developer\"]\n",
    "o/p:\n",
    "{\"indu\":\"Technical skill Trainer\",\"priya\":\"DBA\",\"mouni\":\"Front end Developer\"}\n",
    "\n",
    "\n",
    "### Task5\n",
    "\n",
    "scores=[66,90,39,28,678,890,293918,990,0]\n",
    "o/p=[678,890,293918,990]\n"
   ]
  }
 ],
 "metadata": {
  "kernelspec": {
   "display_name": "Python 3",
   "language": "python",
   "name": "python3"
  },
  "language_info": {
   "codemirror_mode": {
    "name": "ipython",
    "version": 3
   },
   "file_extension": ".py",
   "mimetype": "text/x-python",
   "name": "python",
   "nbconvert_exporter": "python",
   "pygments_lexer": "ipython3",
   "version": "3.7.3"
  }
 },
 "nbformat": 4,
 "nbformat_minor": 2
}
