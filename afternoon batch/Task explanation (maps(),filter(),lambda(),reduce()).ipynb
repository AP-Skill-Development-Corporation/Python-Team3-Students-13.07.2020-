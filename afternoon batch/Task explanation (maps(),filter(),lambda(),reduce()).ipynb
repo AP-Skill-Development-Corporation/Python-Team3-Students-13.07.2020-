{
 "cells": [
  {
   "cell_type": "code",
   "execution_count": null,
   "metadata": {},
   "outputs": [],
   "source": [
    "### TASK 1. [\"indupriya\",\"Lucky\",\"mouni\",\"Rani\",\"arun\",Narayana] Using  map \n",
    "o/p:[\"INDUPRIYA\",\"LUCKY\",\"MOUNI\",\"RANI\",\"ARUN\",\"NARAYANA\"]\n",
    "    \n",
    "    \n",
    "### TASK 2. [1.56,2.45,6.787979,2.23435]\n",
    "O/P: [1,2,7,2] -ROUND VALUES\n",
    "    \n",
    "### TASK3 (using zip)\n",
    "Name=[\"indu\",\"priya\",\"Lucky\",\"mouni\"]\n",
    "desig=[\"Technical skill Trainer\",\"DBA\",\"Front end Developer\"]\n",
    "o/p:\n",
    "{\"indu\":\"Technical skill Trainer\",\"priya\":\"DBA\",\"mouni\":\"Front end Developer\"}\n",
    "\n",
    "\n",
    "### TASK4(without using zip)\n",
    "Name=[\"indu\",\"priya\",\"Lucky\",\"mouni\"]\n",
    "desig=[\"Technical skill Trainer\",\"DBA\",\"Front end Developer\"]\n",
    "o/p:\n",
    "{\"indu\":\"Technical skill Trainer\",\"priya\":\"DBA\",\"mouni\":\"Front end Developer\"}\n",
    "\n",
    "\n",
    "### Task5\n",
    "\n",
    "scores=[66,90,39,28,678,890,293918,990,0]\n",
    "o/p=[678,890,293918,990]\n"
   ]
  },
  {
   "cell_type": "code",
   "execution_count": null,
   "metadata": {},
   "outputs": [],
   "source": [
    "### TASK 1. [\"indupriya\",\"Lucky\",\"mouni\",\"Rani\",\"arun\",\"Narayana\"] Using  map \n",
    "o/p:[\"INDUPRIYA\",\"LUCKY\",\"MOUNI\",\"RANI\",\"ARUN\",\"NARAYANA\"]\n",
    "    "
   ]
  },
  {
   "cell_type": "code",
   "execution_count": 3,
   "metadata": {},
   "outputs": [
    {
     "name": "stdout",
     "output_type": "stream",
     "text": [
      "['INDUPRIYA', 'LUCKY', 'MOUNI', 'RANI', 'ARUN', 'NARAYANA']\n"
     ]
    }
   ],
   "source": [
    "### TASK 1. [\"indupriya\",\"Lucky\",\"mouni\",\"Rani\",\"arun\",\"Narayana\"]\n",
    "\n",
    "names=[\"indupriya\",\"Lucky\",\"mouni\",\"Rani\",\"arun\",\"Narayana\"]\n",
    "names1=list(map(str.upper,names))\n",
    "print(names1)\n",
    "\n"
   ]
  },
  {
   "cell_type": "code",
   "execution_count": 8,
   "metadata": {},
   "outputs": [
    {
     "name": "stdout",
     "output_type": "stream",
     "text": [
      "[2, 2, 7, 2, 56, 90, 4546]\n"
     ]
    }
   ],
   "source": [
    "### TASK 2. [1.56,2.45,6.787979,2.23435,56,90,4546]  -->round \n",
    "\n",
    "## round,ceil,floor\n",
    "\n",
    "\n",
    "# ceil= 20.5  -->21(here . after value is any value it treatsnext value )\n",
    "\n",
    "# floor= 20.5 --> 20(here . after value is any value it treats same value \n",
    "\n",
    "# round = 20.5-->21(here . after value is equal to or more it treats same value)\n",
    "\n",
    "circle= [1.56,2.45,6.787979,2.23435,56,90,4546]\n",
    "result=map(round,circle)\n",
    "print(list(result))\n",
    "       \n",
    "        \n",
    "\n"
   ]
  },
  {
   "cell_type": "code",
   "execution_count": 15,
   "metadata": {},
   "outputs": [
    {
     "name": "stdout",
     "output_type": "stream",
     "text": [
      "[('indu', 'Technical skill Trainer'), ('priya', 'DBA'), ('Lucky', 'Front end Developer')]\n"
     ]
    }
   ],
   "source": [
    "### TASK3 (using zip)\n",
    "#Name=[\"indu\",\"priya\",\"Lucky\",\"mouni\"]\n",
    "#desig=[\"Technical skill Trainer\",\"DBA\",\"Front end Developer\"]\n",
    "#o/p:\n",
    "#{\"indu\",\"Technical skill Trainer\",\"priya\",\"DBA\",\"mouni\",\"Front end Developer\"}\n",
    "\n",
    "Name=[\"indu\",\"priya\",\"Lucky\",\"mouni\"]\n",
    "desig=[\"Technical skill Trainer\",\"DBA\",\"Front end Developer\"]\n",
    "\n",
    "results=zip(Name,desig)\n",
    "print(list(results))\n"
   ]
  },
  {
   "cell_type": "code",
   "execution_count": 18,
   "metadata": {},
   "outputs": [
    {
     "name": "stdout",
     "output_type": "stream",
     "text": [
      "[('indu', 'Technical skill Trainer'), ('priya', 'DBA'), ('Lucky', 'Front end Developer')]\n"
     ]
    }
   ],
   "source": [
    "### TASK4(without using zip)\n",
    "#Name=[\"indu\",\"priya\",\"Lucky\",\"mouni\"]\n",
    "#desig=[\"Technical skill Trainer\",\"DBA\",\"Front end Developer\"]\n",
    "#o/p:\n",
    "#{\"indu\":\"Technical skill Trainer\",\"priya\":\"DBA\",\"mouni\":\"Front end Developer\"}\n",
    "\n",
    "\n",
    "Name=[\"indu\",\"priya\",\"Lucky\",\"mouni\"]\n",
    "desig=[\"Technical skill Trainer\",\"DBA\",\"Front end Developer\"]\n",
    "results1=map(lambda x,y:(x,y),Name,desig)\n",
    "print(list(results1))\n"
   ]
  },
  {
   "cell_type": "code",
   "execution_count": 23,
   "metadata": {},
   "outputs": [
    {
     "name": "stdout",
     "output_type": "stream",
     "text": [
      "[678, 890, 293918, 990]\n"
     ]
    }
   ],
   "source": [
    "# Task 5\n",
    "scores=[66,90,39,28,678,890,293918,990,0]\n",
    "#o/p=[678,890,293918,990]\n",
    "def sample(scores):\n",
    "    return scores>500\n",
    "result3=list(filter(sample,scores))\n",
    "print((result3))"
   ]
  },
  {
   "cell_type": "code",
   "execution_count": 27,
   "metadata": {},
   "outputs": [
    {
     "data": {
      "text/plain": [
       "[10, 12, 14, 16, 18]"
      ]
     },
     "execution_count": 27,
     "metadata": {},
     "output_type": "execute_result"
    }
   ],
   "source": [
    "# filter with map\n",
    "#[2,3,4,5,6,7,8,9]\n",
    "c=map(lambda x:x+x,filter(lambda x:(x>4),[2,3,4,5,6,7,8,9]))\n",
    "list(c)\n",
    "# map with filter\n",
    "# map and  filter with reduce"
   ]
  },
  {
   "cell_type": "code",
   "execution_count": 28,
   "metadata": {},
   "outputs": [
    {
     "name": "stdout",
     "output_type": "stream",
     "text": [
      "[6, 8, 10, 12, 14, 16, 18]\n"
     ]
    }
   ],
   "source": [
    "# map with filter\n",
    "# [2,3,4,5,6,7,8,9]\n",
    "c1=filter(lambda x:(x>4),map(lambda x:x+x,[2,3,4,5,6,7,8,9]))\n",
    "print(list(c1))\n",
    "                             "
   ]
  },
  {
   "cell_type": "code",
   "execution_count": 30,
   "metadata": {},
   "outputs": [
    {
     "name": "stdout",
     "output_type": "stream",
     "text": [
      "70\n"
     ]
    }
   ],
   "source": [
    "# map and  filter with reduce\n",
    "from functools import reduce\n",
    "c2=reduce(lambda x,y:x+y,map(lambda x:x+x,filter(lambda x:(x>4),[2,3,4,5,6,7,8,9])))\n",
    "print(c2)"
   ]
  },
  {
   "cell_type": "code",
   "execution_count": null,
   "metadata": {},
   "outputs": [],
   "source": [
    "# reduce explanation\n",
    "\n",
    "#[5,6,7,8,9]  # filter\n",
    "#[10,12,14,16,18] map\n",
    "#10+12=22 # reduce\n",
    "#22+14=36\n",
    "#36+16=52\n",
    "#52+18=70 # final o/p"
   ]
  }
 ],
 "metadata": {
  "kernelspec": {
   "display_name": "Python 3",
   "language": "python",
   "name": "python3"
  },
  "language_info": {
   "codemirror_mode": {
    "name": "ipython",
    "version": 3
   },
   "file_extension": ".py",
   "mimetype": "text/x-python",
   "name": "python",
   "nbconvert_exporter": "python",
   "pygments_lexer": "ipython3",
   "version": "3.7.3"
  }
 },
 "nbformat": 4,
 "nbformat_minor": 2
}
