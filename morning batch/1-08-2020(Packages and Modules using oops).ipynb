{
 "cells": [
  {
   "cell_type": "markdown",
   "metadata": {},
   "source": [
    "## Packages and Modules Using OOPS"
   ]
  },
  {
   "cell_type": "markdown",
   "metadata": {},
   "source": [
    "### Package(Folder): \n",
    "- It is a collection of Modules\n",
    "### Module\n",
    "\n",
    "- i.e.., .py file\n",
    "- collection of functions or classes\n",
    "- for accessing modules we are using import keyword\n",
    "- for accessing modules we have few different ways\n",
    "    - import mymodulename\n",
    "    - from  mymodulename import packagename(calc,math)\n",
    "    - from mymodulename.packagename import functname\n",
    "    - from mymodulename.packagename import *\n",
    "  "
   ]
  },
  {
   "cell_type": "code",
   "execution_count": 2,
   "metadata": {},
   "outputs": [
    {
     "name": "stdout",
     "output_type": "stream",
     "text": [
      "5\n",
      "-1\n",
      "6\n",
      "0.6666666666666666\n",
      "2\n",
      "8\n",
      "False\n",
      "True\n"
     ]
    }
   ],
   "source": [
    "from mypackage.mymodule import *\n",
    "myobj=calc\n",
    "myobj2=Math\n",
    "print(myobj.add(2,3))\n",
    "print(myobj.sub(2,3))\n",
    "print(myobj.mul(2,3))\n",
    "print(myobj.div(2,3))\n",
    "print(myobj.moddiv(2,3))\n",
    "print(myobj.power(2,3))\n",
    "print(myobj2.IsEven(29))\n",
    "print(myobj2.IsEven(36))\n",
    "\n"
   ]
  },
  {
   "cell_type": "code",
   "execution_count": 1,
   "metadata": {},
   "outputs": [
    {
     "ename": "NameError",
     "evalue": "name 'calc' is not defined",
     "output_type": "error",
     "traceback": [
      "\u001b[1;31m---------------------------------------------------------------------------\u001b[0m",
      "\u001b[1;31mNameError\u001b[0m                                 Traceback (most recent call last)",
      "\u001b[1;32m<ipython-input-1-246faf190d05>\u001b[0m in \u001b[0;36m<module>\u001b[1;34m\u001b[0m\n\u001b[0;32m      1\u001b[0m \u001b[1;32mfrom\u001b[0m \u001b[0mmypackage\u001b[0m\u001b[1;33m.\u001b[0m\u001b[0mmymodule\u001b[0m \u001b[1;32mimport\u001b[0m \u001b[0mMath\u001b[0m\u001b[1;33m\u001b[0m\u001b[1;33m\u001b[0m\u001b[0m\n\u001b[1;32m----> 2\u001b[1;33m \u001b[0mmyobj3\u001b[0m\u001b[1;33m=\u001b[0m\u001b[0mcalc\u001b[0m\u001b[1;33m\u001b[0m\u001b[1;33m\u001b[0m\u001b[0m\n\u001b[0m\u001b[0;32m      3\u001b[0m \u001b[0mprint\u001b[0m\u001b[1;33m(\u001b[0m\u001b[0mmyobj3\u001b[0m\u001b[1;33m.\u001b[0m\u001b[0mIsEven\u001b[0m\u001b[1;33m(\u001b[0m\u001b[1;36m36\u001b[0m\u001b[1;33m)\u001b[0m\u001b[1;33m)\u001b[0m\u001b[1;33m\u001b[0m\u001b[1;33m\u001b[0m\u001b[0m\n\u001b[0;32m      4\u001b[0m \u001b[1;33m\u001b[0m\u001b[0m\n\u001b[0;32m      5\u001b[0m \u001b[1;31m# here shows error because we took math class but we use calc function\u001b[0m\u001b[1;33m\u001b[0m\u001b[1;33m\u001b[0m\u001b[1;33m\u001b[0m\u001b[0m\n",
      "\u001b[1;31mNameError\u001b[0m: name 'calc' is not defined"
     ]
    }
   ],
   "source": [
    "from mypackage.mymodule import Math\n",
    "myobj3=calc# here shows error because we took math class but we use calc function\n",
    "print(myobj3.IsEven(36))\n",
    "\n",
    "# here shows error because we took math class but we use calc function"
   ]
  },
  {
   "cell_type": "code",
   "execution_count": 5,
   "metadata": {},
   "outputs": [
    {
     "name": "stdout",
     "output_type": "stream",
     "text": [
      "True\n"
     ]
    }
   ],
   "source": [
    "from mypackage.mymodule import Math\n",
    "myobj3=Math  # here we gave correct class name\n",
    "print(myobj3.IsEven(36))"
   ]
  },
  {
   "cell_type": "code",
   "execution_count": 7,
   "metadata": {},
   "outputs": [
    {
     "name": "stdout",
     "output_type": "stream",
     "text": [
      "Enter any value29\n"
     ]
    },
    {
     "ename": "TypeError",
     "evalue": "not all arguments converted during string formatting",
     "output_type": "error",
     "traceback": [
      "\u001b[1;31m---------------------------------------------------------------------------\u001b[0m",
      "\u001b[1;31mTypeError\u001b[0m                                 Traceback (most recent call last)",
      "\u001b[1;32m<ipython-input-7-3f0761609678>\u001b[0m in \u001b[0;36m<module>\u001b[1;34m\u001b[0m\n\u001b[0;32m      1\u001b[0m \u001b[1;32mfrom\u001b[0m \u001b[0mmypackage\u001b[0m\u001b[1;33m.\u001b[0m\u001b[0mmymodule\u001b[0m \u001b[1;32mimport\u001b[0m \u001b[0mMath\u001b[0m\u001b[1;33m\u001b[0m\u001b[1;33m\u001b[0m\u001b[0m\n\u001b[0;32m      2\u001b[0m \u001b[0mmyobj3\u001b[0m\u001b[1;33m=\u001b[0m\u001b[0mMath\u001b[0m  \u001b[1;31m# here we gave correct class name\u001b[0m\u001b[1;33m\u001b[0m\u001b[1;33m\u001b[0m\u001b[0m\n\u001b[1;32m----> 3\u001b[1;33m \u001b[0mprint\u001b[0m\u001b[1;33m(\u001b[0m\u001b[0mmyobj3\u001b[0m\u001b[1;33m.\u001b[0m\u001b[0mIsEven\u001b[0m\u001b[1;33m(\u001b[0m\u001b[1;33m(\u001b[0m\u001b[0minput\u001b[0m\u001b[1;33m(\u001b[0m\u001b[1;34m\"Enter any value\"\u001b[0m\u001b[1;33m)\u001b[0m\u001b[1;33m)\u001b[0m\u001b[1;33m)\u001b[0m\u001b[1;33m)\u001b[0m\u001b[1;33m\u001b[0m\u001b[1;33m\u001b[0m\u001b[0m\n\u001b[0m",
      "\u001b[1;32m~\\Desktop\\Python Online session(Morning-batch-2)\\mypackage\\mymodule.py\u001b[0m in \u001b[0;36mIsEven\u001b[1;34m(num3)\u001b[0m\n\u001b[0;32m     24\u001b[0m \u001b[1;32mclass\u001b[0m \u001b[0mMath\u001b[0m\u001b[1;33m:\u001b[0m\u001b[1;33m\u001b[0m\u001b[1;33m\u001b[0m\u001b[0m\n\u001b[0;32m     25\u001b[0m     \u001b[1;32mdef\u001b[0m \u001b[0mIsEven\u001b[0m\u001b[1;33m(\u001b[0m\u001b[0mnum3\u001b[0m\u001b[1;33m)\u001b[0m\u001b[1;33m:\u001b[0m\u001b[1;33m\u001b[0m\u001b[1;33m\u001b[0m\u001b[0m\n\u001b[1;32m---> 26\u001b[1;33m         \u001b[1;32mif\u001b[0m \u001b[0mnum3\u001b[0m\u001b[1;33m%\u001b[0m\u001b[1;36m2\u001b[0m\u001b[1;33m==\u001b[0m\u001b[1;36m0\u001b[0m\u001b[1;33m:\u001b[0m\u001b[1;33m\u001b[0m\u001b[1;33m\u001b[0m\u001b[0m\n\u001b[0m\u001b[0;32m     27\u001b[0m             \u001b[1;32mreturn\u001b[0m \u001b[1;32mTrue\u001b[0m\u001b[1;33m\u001b[0m\u001b[1;33m\u001b[0m\u001b[0m\n\u001b[0;32m     28\u001b[0m         \u001b[1;32melse\u001b[0m\u001b[1;33m:\u001b[0m\u001b[1;33m\u001b[0m\u001b[1;33m\u001b[0m\u001b[0m\n",
      "\u001b[1;31mTypeError\u001b[0m: not all arguments converted during string formatting"
     ]
    }
   ],
   "source": [
    "from mypackage.mymodule import Math\n",
    "myobj3=Math  # here we gave correct class name\n",
    "print(myobj3.IsEven((input(\"Enter any value\"))))  # here we take string value so it shows error"
   ]
  },
  {
   "cell_type": "code",
   "execution_count": 8,
   "metadata": {},
   "outputs": [
    {
     "name": "stdout",
     "output_type": "stream",
     "text": [
      "Enter any value36\n",
      "True\n"
     ]
    }
   ],
   "source": [
    "from mypackage.mymodule import Math\n",
    "myobj3=Math  # here we gave correct class name\n",
    "print(myobj3.IsEven(int(input(\"Enter any value\"))))"
   ]
  },
  {
   "cell_type": "code",
   "execution_count": 4,
   "metadata": {},
   "outputs": [
    {
     "name": "stdout",
     "output_type": "stream",
     "text": [
      "5\n",
      "-1\n",
      "6\n",
      "0.6666666666666666\n",
      "2\n",
      "8\n"
     ]
    }
   ],
   "source": [
    "from mypackage.mymodule import *\n",
    "myobj4=mycalc(2,3)\n",
    "print(myobj4.__add__())\n",
    "print(myobj4.__sub__())\n",
    "print(myobj4.__mul__())\n",
    "print(myobj4.__div__())\n",
    "print(myobj4.__moddiv__())\n",
    "print(myobj4.__power__())\n"
   ]
  },
  {
   "cell_type": "code",
   "execution_count": null,
   "metadata": {},
   "outputs": [],
   "source": []
  }
 ],
 "metadata": {
  "kernelspec": {
   "display_name": "Python 3",
   "language": "python",
   "name": "python3"
  },
  "language_info": {
   "codemirror_mode": {
    "name": "ipython",
    "version": 3
   },
   "file_extension": ".py",
   "mimetype": "text/x-python",
   "name": "python",
   "nbconvert_exporter": "python",
   "pygments_lexer": "ipython3",
   "version": "3.7.3"
  }
 },
 "nbformat": 4,
 "nbformat_minor": 2
}
