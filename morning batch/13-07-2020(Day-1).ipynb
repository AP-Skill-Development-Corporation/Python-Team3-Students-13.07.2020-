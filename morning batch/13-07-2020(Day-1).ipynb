{
 "cells": [
  {
   "cell_type": "markdown",
   "metadata": {},
   "source": [
    "### What is Python "
   ]
  },
  {
   "cell_type": "markdown",
   "metadata": {},
   "source": [
    "- Python is a Programming language\n",
    "    - Programming language: Mediator between h/w and s/w \n",
    "        - Two types :\n",
    "            - 1.Low level : Machine understandable language(Assembly,Machine)\n",
    "                - Non portable language\n",
    "            - 2.High level: Both machine and user (C,C++,Java,Python)\n",
    "                - Portable language\n",
    "                \n",
    "                \n",
    "                \n",
    "**Python is Introduced by Guido Van Rossum in 1991(released)**\n",
    "            \n",
    "            "
   ]
  },
  {
   "cell_type": "markdown",
   "metadata": {},
   "source": [
    "####  History:\n",
    "\n",
    "- version -0.9.0 -feb 1991  (Exception handling, functions,and core datatypes)\n",
    "- version -1.0   -1994  (functional programming tools  , lambda,map,filter, reduce) \n",
    "- version - 2.0   -octo -2000(list comparison,full garbage collection and unicode)\n",
    "- version - 3.0   -(removable of duplicate programming constructors and modules)\n"
   ]
  },
  {
   "cell_type": "markdown",
   "metadata": {},
   "source": [
    "#####  Applications:\n",
    "    - console based applications(Ipython)\n",
    "    - audio/video based app (Time,cplay etc)\n",
    "    - 3D CAD applications\n",
    "    - web applications(django ,flask,etc)\n",
    "    - Application Images(Vpython,Gogh)\n",
    "    - Data analysis, machine learning ,etc..,"
   ]
  },
  {
   "cell_type": "markdown",
   "metadata": {},
   "source": [
    "### Advantages:\n",
    "\n",
    "\n",
    "- simple Language(Easy to learn)\n",
    "- Interpreted language(Line by line exection)\n",
    "- cross platform language &  portable(It can be run any where )\n",
    "- free and open source\n",
    "- Object Oriented Language \n",
    "    - Class\n",
    "    - object\n",
    "    - inheritence\n",
    "    - Data abstration\n",
    "    - Encapsulation\n",
    "    \n",
    "- It is a General Purpose Programming language  v/s Purpose based language:\n",
    "    - Purposed based:(COBAL,FORTRAN,PASCEL)\n",
    "    - General Purpose(Python)\n",
    "\n",
    "\n",
    "\n"
   ]
  },
  {
   "cell_type": "code",
   "execution_count": null,
   "metadata": {},
   "outputs": [],
   "source": [
    "# Other languages:\n",
    "\n",
    "\n",
    "#include<studio.h>\n",
    "#include<conio.h>\n",
    "void main\n",
    "{\n",
    "print (\"hello world\")\n",
    "}\n",
    "getch()\n"
   ]
  },
  {
   "cell_type": "code",
   "execution_count": 1,
   "metadata": {},
   "outputs": [
    {
     "name": "stdout",
     "output_type": "stream",
     "text": [
      "Hello Welcome to Online Python Programming\n"
     ]
    }
   ],
   "source": [
    "## Python \n",
    "\n",
    "print(\"Hello Welcome to Online Python Programming\")"
   ]
  },
  {
   "cell_type": "markdown",
   "metadata": {},
   "source": [
    "#### IDLE:Integrated Developing Learning Environment"
   ]
  },
  {
   "cell_type": "code",
   "execution_count": null,
   "metadata": {},
   "outputs": [],
   "source": []
  }
 ],
 "metadata": {
  "kernelspec": {
   "display_name": "Python 3",
   "language": "python",
   "name": "python3"
  },
  "language_info": {
   "codemirror_mode": {
    "name": "ipython",
    "version": 3
   },
   "file_extension": ".py",
   "mimetype": "text/x-python",
   "name": "python",
   "nbconvert_exporter": "python",
   "pygments_lexer": "ipython3",
   "version": "3.7.3"
  }
 },
 "nbformat": 4,
 "nbformat_minor": 2
}
