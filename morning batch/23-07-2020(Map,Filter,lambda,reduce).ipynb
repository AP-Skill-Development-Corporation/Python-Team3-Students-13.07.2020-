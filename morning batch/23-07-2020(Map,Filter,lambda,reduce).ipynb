{
 "cells": [
  {
   "cell_type": "markdown",
   "metadata": {},
   "source": [
    "\n",
    "# Today topics:\n",
    "\n",
    "# Functional Programming\n",
    "###  Lambda()\n",
    "### filter()\n",
    "###  Map()\n",
    "### reduce()\n"
   ]
  },
  {
   "cell_type": "markdown",
   "metadata": {},
   "source": [
    "# Lambda():"
   ]
  },
  {
   "cell_type": "markdown",
   "metadata": {},
   "source": [
    "### Lambda():\n",
    "- It is a Ananymous Functions : Function without name\n",
    "- The lamba is a operator or lambda function is a way to create small anonymus functions.\n",
    "- These functions are throw away functions i.e.., they are just needed where they have been created\n",
    "- Mainly it was used in maps(),filter(),reduce()\n",
    "\n",
    "\n",
    "    "
   ]
  },
  {
   "cell_type": "code",
   "execution_count": 3,
   "metadata": {},
   "outputs": [
    {
     "data": {
      "text/plain": [
       "50"
      ]
     },
     "execution_count": 3,
     "metadata": {},
     "output_type": "execute_result"
    }
   ],
   "source": [
    "## normal addition program\n",
    "20+30"
   ]
  },
  {
   "cell_type": "code",
   "execution_count": 5,
   "metadata": {},
   "outputs": [
    {
     "data": {
      "text/plain": [
       "50"
      ]
     },
     "execution_count": 5,
     "metadata": {},
     "output_type": "execute_result"
    }
   ],
   "source": [
    "# with function addition program\n",
    "def sample(a,b):\n",
    "    return a+b\n",
    "sample(20,30)"
   ]
  },
  {
   "cell_type": "code",
   "execution_count": 12,
   "metadata": {},
   "outputs": [
    {
     "data": {
      "text/plain": [
       "function"
      ]
     },
     "execution_count": 12,
     "metadata": {},
     "output_type": "execute_result"
    }
   ],
   "source": [
    "type(sample)"
   ]
  },
  {
   "cell_type": "code",
   "execution_count": 6,
   "metadata": {},
   "outputs": [],
   "source": [
    "# with using lambda function\n",
    "\n",
    "add=lambda a,b : a+b"
   ]
  },
  {
   "cell_type": "code",
   "execution_count": 8,
   "metadata": {},
   "outputs": [
    {
     "data": {
      "text/plain": [
       "50"
      ]
     },
     "execution_count": 8,
     "metadata": {},
     "output_type": "execute_result"
    }
   ],
   "source": [
    "add(20,30)"
   ]
  },
  {
   "cell_type": "code",
   "execution_count": 13,
   "metadata": {},
   "outputs": [
    {
     "data": {
      "text/plain": [
       "<function __main__.<lambda>(c, d)>"
      ]
     },
     "execution_count": 13,
     "metadata": {},
     "output_type": "execute_result"
    }
   ],
   "source": [
    "lambda c,d : c+d  # lambda itself returns a function object"
   ]
  },
  {
   "cell_type": "code",
   "execution_count": 11,
   "metadata": {},
   "outputs": [
    {
     "data": {
      "text/plain": [
       "function"
      ]
     },
     "execution_count": 11,
     "metadata": {},
     "output_type": "execute_result"
    }
   ],
   "source": [
    "type(add)"
   ]
  },
  {
   "cell_type": "code",
   "execution_count": 9,
   "metadata": {},
   "outputs": [
    {
     "data": {
      "text/plain": [
       "50"
      ]
     },
     "execution_count": 9,
     "metadata": {},
     "output_type": "execute_result"
    }
   ],
   "source": [
    "add1=20+30\n",
    "add1"
   ]
  },
  {
   "cell_type": "code",
   "execution_count": 10,
   "metadata": {},
   "outputs": [
    {
     "data": {
      "text/plain": [
       "int"
      ]
     },
     "execution_count": 10,
     "metadata": {},
     "output_type": "execute_result"
    }
   ],
   "source": [
    "type(add1)"
   ]
  },
  {
   "cell_type": "code",
   "execution_count": 14,
   "metadata": {},
   "outputs": [
    {
     "data": {
      "text/plain": [
       "8"
      ]
     },
     "execution_count": 14,
     "metadata": {},
     "output_type": "execute_result"
    }
   ],
   "source": [
    "2**3"
   ]
  },
  {
   "cell_type": "code",
   "execution_count": 15,
   "metadata": {},
   "outputs": [
    {
     "data": {
      "text/plain": [
       "8"
      ]
     },
     "execution_count": 15,
     "metadata": {},
     "output_type": "execute_result"
    }
   ],
   "source": [
    "power= lambda l,m:l**m\n",
    "power(2,3)"
   ]
  },
  {
   "cell_type": "markdown",
   "metadata": {},
   "source": [
    "### using \"if else \" in lambda function"
   ]
  },
  {
   "cell_type": "code",
   "execution_count": 16,
   "metadata": {},
   "outputs": [
    {
     "data": {
      "text/plain": [
       "True"
      ]
     },
     "execution_count": 16,
     "metadata": {},
     "output_type": "execute_result"
    }
   ],
   "source": [
    "def fun2(g):\n",
    "    if g>100 and g< 250:\n",
    "        return True\n",
    "    else:\n",
    "        return False\n",
    "fun2(180)"
   ]
  },
  {
   "cell_type": "code",
   "execution_count": 18,
   "metadata": {},
   "outputs": [
    {
     "data": {
      "text/plain": [
       "True"
      ]
     },
     "execution_count": 18,
     "metadata": {},
     "output_type": "execute_result"
    }
   ],
   "source": [
    "fun2(176)"
   ]
  },
  {
   "cell_type": "code",
   "execution_count": 19,
   "metadata": {},
   "outputs": [
    {
     "data": {
      "text/plain": [
       "False"
      ]
     },
     "execution_count": 19,
     "metadata": {},
     "output_type": "execute_result"
    }
   ],
   "source": [
    "fun2(36)"
   ]
  },
  {
   "cell_type": "code",
   "execution_count": 24,
   "metadata": {},
   "outputs": [],
   "source": [
    "g1=lambda e:True if(e >100 and e <250) else False"
   ]
  },
  {
   "cell_type": "code",
   "execution_count": 25,
   "metadata": {},
   "outputs": [
    {
     "data": {
      "text/plain": [
       "True"
      ]
     },
     "execution_count": 25,
     "metadata": {},
     "output_type": "execute_result"
    }
   ],
   "source": [
    "g1(180)"
   ]
  },
  {
   "cell_type": "markdown",
   "metadata": {},
   "source": [
    "### Without using \"if else\" with lambda function"
   ]
  },
  {
   "cell_type": "code",
   "execution_count": 32,
   "metadata": {},
   "outputs": [],
   "source": [
    "g2=lambda f:f >29 and f <36"
   ]
  },
  {
   "cell_type": "code",
   "execution_count": 33,
   "metadata": {},
   "outputs": [
    {
     "data": {
      "text/plain": [
       "True"
      ]
     },
     "execution_count": 33,
     "metadata": {},
     "output_type": "execute_result"
    }
   ],
   "source": [
    "g2(35)"
   ]
  },
  {
   "cell_type": "code",
   "execution_count": 34,
   "metadata": {},
   "outputs": [
    {
     "data": {
      "text/plain": [
       "True"
      ]
     },
     "execution_count": 34,
     "metadata": {},
     "output_type": "execute_result"
    }
   ],
   "source": [
    "g2(32)"
   ]
  },
  {
   "cell_type": "code",
   "execution_count": 35,
   "metadata": {},
   "outputs": [
    {
     "data": {
      "text/plain": [
       "False"
      ]
     },
     "execution_count": 35,
     "metadata": {},
     "output_type": "execute_result"
    }
   ],
   "source": [
    "g2(21)"
   ]
  },
  {
   "cell_type": "markdown",
   "metadata": {},
   "source": [
    "## Map() ,Filter(),Reduce()"
   ]
  },
  {
   "cell_type": "markdown",
   "metadata": {},
   "source": [
    "- ***map()***:Applies a given function to all iterables and returns a new list\n",
    "- syn: \n",
    "- map(fun,iterables)\n",
    "- map(fun,*iterables)"
   ]
  },
  {
   "cell_type": "markdown",
   "metadata": {},
   "source": [
    "- Here Iterables are two types\n",
    "    - User defined\n",
    "    - using lambda"
   ]
  },
  {
   "cell_type": "markdown",
   "metadata": {},
   "source": [
    "### using User defined"
   ]
  },
  {
   "cell_type": "code",
   "execution_count": 42,
   "metadata": {},
   "outputs": [
    {
     "name": "stdout",
     "output_type": "stream",
     "text": [
      "<map object at 0x000002062B1EDE80>\n",
      "[1, 4, 9, 16, 25, 36, 49]\n"
     ]
    }
   ],
   "source": [
    "# using User defined\n",
    "def new(a):\n",
    "    return a*a\n",
    "x=map(new,[1,2,3,4,5,6,7])\n",
    "#x=map(new,[1,2,3,4,5,6,7])\n",
    "#x=map(new,[1,2,3,4,5,6,7)\n",
    "print(x)  # object is return\n",
    "print(list(x))\n",
    "#print(tuple(x))\n",
    "#print(set(x))\n"
   ]
  },
  {
   "cell_type": "markdown",
   "metadata": {},
   "source": [
    "### Using multiple Iterables"
   ]
  },
  {
   "cell_type": "code",
   "execution_count": 52,
   "metadata": {},
   "outputs": [
    {
     "name": "stdout",
     "output_type": "stream",
     "text": [
      "[2, 6, 12, 20, 30, 42, 56]\n"
     ]
    }
   ],
   "source": [
    "# Using multiple Iterables\n",
    "def new1(a,b):\n",
    "    return a*b    \n",
    "y=map(new1,[1,2,3,4,5,6,7],[2,3,4,5,6,7,8])\n",
    "print(list(y))"
   ]
  },
  {
   "cell_type": "markdown",
   "metadata": {},
   "source": [
    "### Lambda with map() function\n",
    "\n"
   ]
  },
  {
   "cell_type": "code",
   "execution_count": 60,
   "metadata": {},
   "outputs": [
    {
     "name": "stdout",
     "output_type": "stream",
     "text": [
      "[4, 5, 6, 7, 8]\n",
      "(4, 5, 6, 7, 8)\n",
      "{4, 5, 6, 7, 8}\n"
     ]
    }
   ],
   "source": [
    "lists=[1,2,3,4,5]\n",
    "x=list(map(lambda x:x+3,lists))\n",
    "y=tuple(map(lambda x:x+3,lists))\n",
    "z=set(map(lambda x:x+3,lists))\n",
    "print(x)\n",
    "print(y)\n",
    "print(z)"
   ]
  },
  {
   "cell_type": "markdown",
   "metadata": {},
   "source": [
    "## Filter()\n",
    "- Filter creates an output list consisting of values for which the fuction returns True\n",
    "- Syn:\n",
    "- filter(function,Iterables)"
   ]
  },
  {
   "cell_type": "code",
   "execution_count": 67,
   "metadata": {},
   "outputs": [
    {
     "name": "stdout",
     "output_type": "stream",
     "text": [
      "<filter object at 0x000002062B157240>\n",
      "[4, 5, 6, 7]\n"
     ]
    }
   ],
   "source": [
    "def new1(i):\n",
    "    if i>3:\n",
    "        return j\n",
    "j=filter(new1,(1,2,3,4,5,6,7))\n",
    "print(j)\n",
    "print(list(j))\n",
    "#print(tuple(j))\n",
    "#print(set(j))"
   ]
  },
  {
   "cell_type": "markdown",
   "metadata": {},
   "source": [
    "### Filter with Lambda"
   ]
  },
  {
   "cell_type": "code",
   "execution_count": 72,
   "metadata": {},
   "outputs": [
    {
     "name": "stdout",
     "output_type": "stream",
     "text": [
      "[4, 5, 6, 7]\n"
     ]
    }
   ],
   "source": [
    "z1=filter(lambda x: x>3,(1,2,3,4,5,6,7))\n",
    "print(list(z1))"
   ]
  },
  {
   "cell_type": "markdown",
   "metadata": {},
   "source": [
    "# Reduce\n",
    "- It Applies a given function to the iterables and returns a single value\n",
    "- Syn:\n",
    "- reduce(function,iterables)"
   ]
  },
  {
   "cell_type": "code",
   "execution_count": 79,
   "metadata": {},
   "outputs": [
    {
     "name": "stdout",
     "output_type": "stream",
     "text": [
      "40320\n"
     ]
    }
   ],
   "source": [
    "from functools import reduce\n",
    "def a(x,y):\n",
    "    return x*y\n",
    "s=reduce(a,[1,2,3,4,5,6,7,8])\n",
    "print(s)\n",
    "\n",
    "\n"
   ]
  },
  {
   "cell_type": "code",
   "execution_count": null,
   "metadata": {},
   "outputs": [],
   "source": [
    "# filter with map\n",
    "# map with filter\n",
    "# map and  filter with reduce"
   ]
  },
  {
   "cell_type": "code",
   "execution_count": null,
   "metadata": {},
   "outputs": [],
   "source": [
    "### TASK 1. [\"indupriya\",\"Lucky\",\"mouni\",\"Rani\",\"arun\",Narayana] Using  map \n",
    "o/p:[\"INDUPRIYA\",\"LUCKY\",\"MOUNI\",\"RANI\",\"ARUN\",\"NARAYANA\"]\n",
    "    \n",
    "    \n",
    "### TASK 2. [1.56,2.45,6.787979,2.23435]\n",
    "O/P: [1,2,7,2] -ROUND VALUES\n",
    "    \n",
    "### TASK3 (using zip)\n",
    "Name=[\"indu\",\"priya\",\"Lucky\",\"mouni\"]\n",
    "desig=[\"Technical skill Trainer\",\"DBA\",\"Front end Developer\"]\n",
    "o/p:\n",
    "{\"indu\":\"Technical skill Trainer\",\"priya\":\"DBA\",\"mouni\":\"Front end Developer\"}\n",
    "\n",
    "\n",
    "### TASK4(without using zip)\n",
    "Name=[\"indu\",\"priya\",\"Lucky\",\"mouni\"]\n",
    "desig=[\"Technical skill Trainer\",\"DBA\",\"Front end Developer\"]\n",
    "o/p:\n",
    "{\"indu\":\"Technical skill Trainer\",\"priya\":\"DBA\",\"mouni\":\"Front end Developer\"}\n",
    "\n",
    "\n",
    "### Task5\n",
    "\n",
    "scores=[66,90,39,28,678,890,293918,990,0]\n",
    "o/p=[678,890,293918,990]\n"
   ]
  }
 ],
 "metadata": {
  "kernelspec": {
   "display_name": "Python 3",
   "language": "python",
   "name": "python3"
  },
  "language_info": {
   "codemirror_mode": {
    "name": "ipython",
    "version": 3
   },
   "file_extension": ".py",
   "mimetype": "text/x-python",
   "name": "python",
   "nbconvert_exporter": "python",
   "pygments_lexer": "ipython3",
   "version": "3.7.3"
  }
 },
 "nbformat": 4,
 "nbformat_minor": 2
}
