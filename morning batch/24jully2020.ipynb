{
 "cells": [
  {
   "cell_type": "markdown",
   "metadata": {},
   "source": [
    "#### File Handling\n",
    "* A file is some information or data which stays in the computer storage device.\n",
    "* python gives you easy ways to manipulate these files\n",
    "* there are 2 types\n",
    "    * text files(simple texts)\n",
    "    * binary files(binary data which is only readable by computer)\n",
    "* steps in file \n",
    "    * file opening\n",
    "    * method declaration\n",
    "    * file closing\n",
    " "
   ]
  },
  {
   "cell_type": "markdown",
   "metadata": {},
   "source": [
    "##### working of open function\n",
    "* syntax: open(\"filename\",\"mode\")\n",
    "* modes in file:\n",
    "    * r --->read\n",
    "    * w ---->write\n",
    "    * a --->append\n",
    "##### method declaration\n",
    "* read\n",
    "* write\n",
    "* readline\n",
    "* readlines\n",
    "##### working of close function\n",
    "close()"
   ]
  },
  {
   "cell_type": "code",
   "execution_count": 1,
   "metadata": {},
   "outputs": [
    {
     "name": "stdout",
     "output_type": "stream",
     "text": [
      "good morning all\n",
      "welcome\n",
      "python online classes\n",
      "APSSDC training\n"
     ]
    }
   ],
   "source": [
    "f=open(\"sample.txt\",\"r\")\n",
    "print(f.read())\n",
    "f.close()"
   ]
  },
  {
   "cell_type": "code",
   "execution_count": 3,
   "metadata": {},
   "outputs": [
    {
     "name": "stdout",
     "output_type": "stream",
     "text": [
      "good morning all\n",
      "welcome\n",
      "python online classes\n",
      "APSSDC training\n"
     ]
    }
   ],
   "source": [
    "f=open(\"sample.txt\",\"r\")\n",
    "f1=f.read()\n",
    "print(f1)\n",
    "f.close()"
   ]
  },
  {
   "cell_type": "code",
   "execution_count": 9,
   "metadata": {},
   "outputs": [
    {
     "name": "stdout",
     "output_type": "stream",
     "text": [
      "rtyuo\n"
     ]
    }
   ],
   "source": [
    "f=open(\"sample.txt\",\"a\")\n",
    "data=input()\n",
    "f.write(data+\"\\n\")\n",
    "f.close()"
   ]
  },
  {
   "cell_type": "code",
   "execution_count": 11,
   "metadata": {},
   "outputs": [
    {
     "name": "stdout",
     "output_type": "stream",
     "text": [
      "python online class\n"
     ]
    }
   ],
   "source": [
    "f=open(\"data.txt\",\"w\")\n",
    "data=input()\n",
    "f.write(data)\n",
    "f.close()"
   ]
  },
  {
   "cell_type": "code",
   "execution_count": 12,
   "metadata": {},
   "outputs": [
    {
     "name": "stdout",
     "output_type": "stream",
     "text": [
      "good morning all\n",
      "\n"
     ]
    }
   ],
   "source": [
    "f=open(\"sample.txt\",\"r\")\n",
    "print(f.readline())\n",
    "f.close()"
   ]
  },
  {
   "cell_type": "code",
   "execution_count": 13,
   "metadata": {},
   "outputs": [
    {
     "name": "stdout",
     "output_type": "stream",
     "text": [
      "['good morning all\\n', 'welcome\\n', 'python online classes\\n', 'APSSDC trainingmorning sessioneveryone\\n', '\\n', 'vijayawadasdfghjkl\\n', 'rtyuo\\n']\n"
     ]
    }
   ],
   "source": [
    "f=open(\"sample.txt\",\"r\")\n",
    "print(f.readlines())\n",
    "f.close()"
   ]
  },
  {
   "cell_type": "code",
   "execution_count": 14,
   "metadata": {},
   "outputs": [
    {
     "name": "stdout",
     "output_type": "stream",
     "text": [
      "good morning all\n",
      "welcome\n",
      "python online classes\n",
      "APSSDC trainingmorning sessioneveryone\n",
      "\n",
      "vijayawadasdfghjkl\n",
      "rtyuo\n",
      "\n"
     ]
    }
   ],
   "source": [
    "## read along with with() function\n",
    "with open(\"sample.txt\",\"r\") as f:\n",
    "    print(f.read())\n"
   ]
  },
  {
   "cell_type": "code",
   "execution_count": 16,
   "metadata": {},
   "outputs": [],
   "source": [
    "##writing along with with() function\n",
    "with open(\"data1.txt\",\"w\") as f1:\n",
    "    f1.write(\"hello world\")"
   ]
  },
  {
   "cell_type": "code",
   "execution_count": 17,
   "metadata": {},
   "outputs": [
    {
     "name": "stdout",
     "output_type": "stream",
     "text": [
      "hello python\n"
     ]
    }
   ],
   "source": [
    "with open(\"data1.txt\",\"w\") as f1:\n",
    "    d=input()\n",
    "    f1.write(d)"
   ]
  },
  {
   "cell_type": "code",
   "execution_count": 19,
   "metadata": {},
   "outputs": [
    {
     "name": "stdout",
     "output_type": "stream",
     "text": [
      "vijayawada\n"
     ]
    }
   ],
   "source": [
    "#append along with with() function\n",
    "with open(\"data1.txt\",\"a\") as f1:\n",
    "    d=input()\n",
    "    f1.write(d+\"\\n\")\n",
    "    "
   ]
  },
  {
   "cell_type": "code",
   "execution_count": 21,
   "metadata": {},
   "outputs": [
    {
     "name": "stdout",
     "output_type": "stream",
     "text": [
      "[1, 2, 3]\n"
     ]
    }
   ],
   "source": [
    "l=[\"1\",\"2\",\"3\"]\n",
    "print(list(map(int,l)))"
   ]
  },
  {
   "cell_type": "code",
   "execution_count": null,
   "metadata": {},
   "outputs": [],
   "source": []
  },
  {
   "cell_type": "code",
   "execution_count": null,
   "metadata": {},
   "outputs": [],
   "source": [
    "#task\n",
    "#o/p abc 200\n",
    "#    def 130\n",
    "#    ghi 140\n"
   ]
  },
  {
   "cell_type": "code",
   "execution_count": 32,
   "metadata": {},
   "outputs": [
    {
     "name": "stdout",
     "output_type": "stream",
     "text": [
      "abc 200\n",
      "def 130\n",
      "ghi 140\n"
     ]
    }
   ],
   "source": [
    "f=open(\"marks.txt\",\"r\")\n",
    "f1=f.readlines()\n",
    "#print(f1)\n",
    "for i in f1:\n",
    "    #print(i)\n",
    "    w=i.split()\n",
    "    #print(w)\n",
    "    names=w[0]\n",
    "    #print(names)\n",
    "    total=sum(list(map(int,w[1:])))\n",
    "    print(names,total)\n",
    "f.close()"
   ]
  },
  {
   "cell_type": "code",
   "execution_count": 35,
   "metadata": {},
   "outputs": [
    {
     "name": "stdout",
     "output_type": "stream",
     "text": [
      "number of lines 7\n"
     ]
    }
   ],
   "source": [
    "#line count\n",
    "f=open(\"sample.txt\",\"r\")\n",
    "l=f.readlines()\n",
    "#print(l)\n",
    "print(\"number of lines\",len(l))\n",
    "f.close()"
   ]
  },
  {
   "cell_type": "code",
   "execution_count": 38,
   "metadata": {},
   "outputs": [
    {
     "name": "stdout",
     "output_type": "stream",
     "text": [
      "number of words 12\n"
     ]
    }
   ],
   "source": [
    "#word count\n",
    "f=open(\"sample.txt\",\"r\")\n",
    "l=f.read()\n",
    "l1=l.split()\n",
    "print(\"number of words\",len(l1))"
   ]
  },
  {
   "cell_type": "code",
   "execution_count": 40,
   "metadata": {},
   "outputs": [
    {
     "name": "stdout",
     "output_type": "stream",
     "text": [
      "number of letters 112\n"
     ]
    }
   ],
   "source": [
    "#letter count\n",
    "f=open(\"sample.txt\",\"r\")\n",
    "l=f.read()\n",
    "print(\"number of letters\",len(l))\n",
    "f.close()"
   ]
  },
  {
   "cell_type": "code",
   "execution_count": 42,
   "metadata": {},
   "outputs": [
    {
     "name": "stdout",
     "output_type": "stream",
     "text": [
      "m : 3\n",
      "C : 1\n",
      "g : 5\n",
      "A : 1\n",
      "P : 1\n",
      "p : 1\n",
      "s : 7\n",
      "u : 1\n",
      "\n",
      " : 7\n",
      "c : 2\n",
      "D : 1\n",
      "v : 2\n",
      "h : 2\n",
      "  : 6\n",
      "k : 1\n",
      "j : 2\n",
      "S : 2\n",
      "a : 7\n",
      "d : 3\n",
      "e : 8\n",
      "w : 2\n",
      "r : 5\n",
      "l : 6\n",
      "t : 3\n",
      "y : 4\n",
      "i : 7\n",
      "n : 11\n",
      "f : 1\n",
      "o : 10\n"
     ]
    }
   ],
   "source": [
    "\n",
    "f=open(\"sample.txt\",\"r\")\n",
    "l=f.read()\n",
    "s=set(l)\n",
    "for i in s:\n",
    "    print(i,\":\",l.count(i))\n",
    "#print(l)\n",
    "f.close()"
   ]
  },
  {
   "cell_type": "code",
   "execution_count": null,
   "metadata": {},
   "outputs": [],
   "source": []
  }
 ],
 "metadata": {
  "kernelspec": {
   "display_name": "Python 3",
   "language": "python",
   "name": "python3"
  },
  "language_info": {
   "codemirror_mode": {
    "name": "ipython",
    "version": 3
   },
   "file_extension": ".py",
   "mimetype": "text/x-python",
   "name": "python",
   "nbconvert_exporter": "python",
   "pygments_lexer": "ipython3",
   "version": "3.7.3"
  }
 },
 "nbformat": 4,
 "nbformat_minor": 2
}
