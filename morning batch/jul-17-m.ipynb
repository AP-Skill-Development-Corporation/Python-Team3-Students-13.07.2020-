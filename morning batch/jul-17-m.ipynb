{
 "cells": [
  {
   "cell_type": "markdown",
   "metadata": {},
   "source": [
    "### Good morning all\n",
    "## today concept\n",
    "# Functions\n",
    "* function is block statements to perform peticular task by calling the functiona name.\n",
    "* we can call it where u want use that code ---> reusability\n",
    "# two types functions\n",
    "1. inbuilt\n",
    "    * sum --> to calculate the sum of elements\n",
    "    * len --> to find the length of the string\n",
    "    * max --> max value\n",
    "    * min --> min val\n",
    "    * ord ---> to find ascii value value of the character\n",
    "    * chr ---> to find character from the acsii value\n",
    "    * abs --> finding the positive\n",
    "    * map and filters \n",
    "2. userdefined"
   ]
  },
  {
   "cell_type": "code",
   "execution_count": 4,
   "metadata": {},
   "outputs": [
    {
     "name": "stdout",
     "output_type": "stream",
     "text": [
      "6\n",
      "3\n",
      "3\n",
      "1\n"
     ]
    }
   ],
   "source": [
    "s = [1,2,3]\n",
    "print(sum(s))\n",
    "print(len(s))\n",
    "print(max(s))\n",
    "print(min(s))"
   ]
  },
  {
   "cell_type": "code",
   "execution_count": 6,
   "metadata": {},
   "outputs": [
    {
     "name": "stdout",
     "output_type": "stream",
     "text": [
      "97\n",
      "65\n"
     ]
    }
   ],
   "source": [
    "print(ord('a'))\n",
    "print(ord('A'))"
   ]
  },
  {
   "cell_type": "code",
   "execution_count": 7,
   "metadata": {},
   "outputs": [
    {
     "data": {
      "text/plain": [
       "'C'"
      ]
     },
     "execution_count": 7,
     "metadata": {},
     "output_type": "execute_result"
    }
   ],
   "source": [
    "#n = 67\n",
    "chr(67)"
   ]
  },
  {
   "cell_type": "code",
   "execution_count": 9,
   "metadata": {},
   "outputs": [
    {
     "data": {
      "text/plain": [
       "40"
      ]
     },
     "execution_count": 9,
     "metadata": {},
     "output_type": "execute_result"
    }
   ],
   "source": [
    "s = abs(10-50)\n",
    "s"
   ]
  },
  {
   "cell_type": "code",
   "execution_count": 10,
   "metadata": {},
   "outputs": [
    {
     "name": "stdout",
     "output_type": "stream",
     "text": [
      "20\n",
      "70\n",
      "50\n"
     ]
    }
   ],
   "source": [
    "s = int(input())\n",
    "s1 = int(input())\n",
    "res = s-s1\n",
    "print(abs(res))"
   ]
  },
  {
   "cell_type": "markdown",
   "metadata": {},
   "source": [
    "## map\n",
    "### we can use map function in two ways\n",
    "1. data type conversion\n",
    "2. iterating the iterable over the function"
   ]
  },
  {
   "cell_type": "code",
   "execution_count": 15,
   "metadata": {},
   "outputs": [
    {
     "name": "stdout",
     "output_type": "stream",
     "text": [
      "6\n",
      "6\n",
      "36\n"
     ]
    }
   ],
   "source": [
    "n = input()\n",
    "n1 = input()\n",
    "print(int(n)*int(n1))"
   ]
  },
  {
   "cell_type": "code",
   "execution_count": null,
   "metadata": {},
   "outputs": [],
   "source": [
    "n = [1,2,3,4]\n"
   ]
  },
  {
   "cell_type": "code",
   "execution_count": 18,
   "metadata": {},
   "outputs": [
    {
     "name": "stdout",
     "output_type": "stream",
     "text": [
      "<class 'str'>\n",
      "<class 'int'>\n"
     ]
    }
   ],
   "source": [
    "n = \"10\"\n",
    "print(type(n))\n",
    "n = int(n)\n",
    "print(type(n))"
   ]
  },
  {
   "cell_type": "code",
   "execution_count": null,
   "metadata": {},
   "outputs": [],
   "source": [
    "l = ['3','4','5']\n",
    "l"
   ]
  },
  {
   "cell_type": "code",
   "execution_count": 1,
   "metadata": {},
   "outputs": [
    {
     "name": "stdout",
     "output_type": "stream",
     "text": [
      "1 2 3 4 5\n"
     ]
    },
    {
     "data": {
      "text/plain": [
       "['1', '2', '3', '4', '5']"
      ]
     },
     "execution_count": 1,
     "metadata": {},
     "output_type": "execute_result"
    }
   ],
   "source": [
    "l = input().split()\n",
    "l"
   ]
  },
  {
   "cell_type": "code",
   "execution_count": 9,
   "metadata": {},
   "outputs": [
    {
     "data": {
      "text/plain": [
       "6"
      ]
     },
     "execution_count": 9,
     "metadata": {},
     "output_type": "execute_result"
    }
   ],
   "source": [
    "n = [1,2,3]\n",
    "#n1 = n.split()\n",
    "sum(n)\n",
    "#print(n2)\n",
    "#print(n1)"
   ]
  },
  {
   "cell_type": "code",
   "execution_count": 11,
   "metadata": {},
   "outputs": [
    {
     "name": "stdout",
     "output_type": "stream",
     "text": [
      "1 2 3 4 5\n"
     ]
    },
    {
     "data": {
      "text/plain": [
       "[1, 2, 3, 4, 5]"
      ]
     },
     "execution_count": 11,
     "metadata": {},
     "output_type": "execute_result"
    }
   ],
   "source": [
    "l1 = input().split() # ----> onr list with string values\n",
    "res = list(map(int,l1))\n",
    "res"
   ]
  },
  {
   "cell_type": "code",
   "execution_count": 14,
   "metadata": {},
   "outputs": [
    {
     "name": "stdout",
     "output_type": "stream",
     "text": [
      "1 2 3 4 5 6\n",
      "[1.0, 2.0, 3.0, 4.0, 5.0, 6.0]\n",
      "['1', '2', '3', '4', '5', '6']\n"
     ]
    }
   ],
   "source": [
    "l1 = input().split() # ----> onr list with string values\n",
    "res = list(map(float,l1))\n",
    "print(res)\n",
    "print(l1)"
   ]
  },
  {
   "cell_type": "code",
   "execution_count": 13,
   "metadata": {},
   "outputs": [
    {
     "name": "stdout",
     "output_type": "stream",
     "text": [
      "1 2 3 4 5 6\n"
     ]
    },
    {
     "data": {
      "text/plain": [
       "[1.0, 2.0, 3.0, 4.0, 5.0, 6.0]"
      ]
     },
     "execution_count": 13,
     "metadata": {},
     "output_type": "execute_result"
    }
   ],
   "source": [
    "res = list(map(float,input().split()))\n",
    "res"
   ]
  },
  {
   "cell_type": "markdown",
   "metadata": {},
   "source": [
    "### User defined function\n",
    "1. required arg\n",
    "2. default arg\n",
    "3. keyword arg\n",
    "4. variable lenth"
   ]
  },
  {
   "cell_type": "code",
   "execution_count": null,
   "metadata": {},
   "outputs": [],
   "source": [
    "def function_name():\n",
    "    block of statements\n",
    "function_name()"
   ]
  },
  {
   "cell_type": "code",
   "execution_count": 19,
   "metadata": {},
   "outputs": [],
   "source": [
    "def sample():\n",
    "    print(\"Welcome to online python classes\")"
   ]
  },
  {
   "cell_type": "code",
   "execution_count": 20,
   "metadata": {},
   "outputs": [
    {
     "name": "stdout",
     "output_type": "stream",
     "text": [
      "Welcome to online python classes\n"
     ]
    }
   ],
   "source": [
    "def sample():\n",
    "    print(\"Welcome to online python classes\")\n",
    "sample()"
   ]
  },
  {
   "cell_type": "code",
   "execution_count": 22,
   "metadata": {},
   "outputs": [
    {
     "name": "stdout",
     "output_type": "stream",
     "text": [
      "archana\n",
      "Welcome to online python classes archana\n"
     ]
    }
   ],
   "source": [
    "name = input()\n",
    "def sample1():\n",
    "    print(\"Welcome to online python classes\",name)\n",
    "sample1()\n",
    "    "
   ]
  },
  {
   "cell_type": "code",
   "execution_count": 27,
   "metadata": {},
   "outputs": [
    {
     "name": "stdout",
     "output_type": "stream",
     "text": [
      "archana\n",
      "Welcome to online python classes archana\n"
     ]
    }
   ],
   "source": [
    "#name = input()\n",
    "def sample1():\n",
    "    name1 = input()\n",
    "    print(\"Welcome to online python classes\",name1)\n",
    "sample1()\n",
    "#print(name1)"
   ]
  },
  {
   "cell_type": "code",
   "execution_count": 31,
   "metadata": {},
   "outputs": [
    {
     "name": "stdout",
     "output_type": "stream",
     "text": [
      "5\n",
      "addition is  10\n"
     ]
    }
   ],
   "source": [
    "#required arg\n",
    "n = int(input())\n",
    "def req(n):\n",
    "    print(\"addition is \",n+n)\n",
    "req(n)"
   ]
  },
  {
   "cell_type": "code",
   "execution_count": 36,
   "metadata": {},
   "outputs": [
    {
     "name": "stdout",
     "output_type": "stream",
     "text": [
      "5\n"
     ]
    },
    {
     "data": {
      "text/plain": [
       "14"
      ]
     },
     "execution_count": 36,
     "metadata": {},
     "output_type": "execute_result"
    }
   ],
   "source": [
    "#required arg\n",
    "n = int(input())\n",
    "def req(n):\n",
    "    #print(\"addition is \",n+n) #without return type\n",
    "    return n+n #----> with return type\n",
    "req(7)"
   ]
  },
  {
   "cell_type": "code",
   "execution_count": 37,
   "metadata": {},
   "outputs": [
    {
     "name": "stdout",
     "output_type": "stream",
     "text": [
      "6\n",
      "multiplication is  42\n"
     ]
    }
   ],
   "source": [
    "#default arg\n",
    "n = int(input())\n",
    "def default(n,n1=7):\n",
    "    print(\"multiplication is\",n*n1)\n",
    "default(n)"
   ]
  },
  {
   "cell_type": "code",
   "execution_count": 39,
   "metadata": {},
   "outputs": [
    {
     "name": "stdout",
     "output_type": "stream",
     "text": [
      "multiplication is 56\n"
     ]
    }
   ],
   "source": [
    "#default arg\n",
    "def default(n,n1=7):\n",
    "    print(\"multiplication is\",n*n1)\n",
    "default(7,8)"
   ]
  },
  {
   "cell_type": "code",
   "execution_count": 44,
   "metadata": {},
   "outputs": [
    {
     "name": "stdout",
     "output_type": "stream",
     "text": [
      "multiplication is 8\n"
     ]
    }
   ],
   "source": [
    "#default arg\n",
    "#n = int(input())\n",
    "def default(n1=7):\n",
    "    print(\"multiplication is\",n1)\n",
    "default(8)"
   ]
  },
  {
   "cell_type": "code",
   "execution_count": 47,
   "metadata": {},
   "outputs": [
    {
     "name": "stdout",
     "output_type": "stream",
     "text": [
      "name is archana\n",
      "branch is cse\n",
      "clg name is gec\n"
     ]
    }
   ],
   "source": [
    "#keyword arg\n",
    "def keyword(name,branch,clg):\n",
    "    print(\"name is\",name)\n",
    "    print('branch is',branch)\n",
    "    print('clg name is',clg)\n",
    "keyword('archana','cse','gec')"
   ]
  },
  {
   "cell_type": "code",
   "execution_count": 48,
   "metadata": {},
   "outputs": [
    {
     "name": "stdout",
     "output_type": "stream",
     "text": [
      "name is cse\n",
      "branch is gec\n",
      "clg name is archana\n"
     ]
    }
   ],
   "source": [
    "#positional arg\n",
    "def keyword(name,branch,clg):\n",
    "    print(\"name is\",name)\n",
    "    print('branch is',branch)\n",
    "    print('clg name is',clg)\n",
    "keyword('cse','gec','archana')"
   ]
  },
  {
   "cell_type": "code",
   "execution_count": 50,
   "metadata": {},
   "outputs": [
    {
     "name": "stdout",
     "output_type": "stream",
     "text": [
      "name is archana\n",
      "branch is cse\n",
      "clg name is gec\n"
     ]
    }
   ],
   "source": [
    "#keyword arg\n",
    "def keyword(name,branch,clg):\n",
    "    print(\"name is\",name)\n",
    "    print('branch is',branch)\n",
    "    print('clg name is',clg)\n",
    "keyword(branch='cse',clg='gec',name='archana')"
   ]
  },
  {
   "cell_type": "code",
   "execution_count": 53,
   "metadata": {},
   "outputs": [
    {
     "name": "stdout",
     "output_type": "stream",
     "text": [
      "archana \n",
      "cse\n",
      "gec\n",
      "name is archana \n",
      "branch is cse\n",
      "clg name is gec\n"
     ]
    }
   ],
   "source": [
    "name = input()\n",
    "branch = input()\n",
    "clg = input()\n",
    "def keyword(branch,clg,name):\n",
    "    print(\"name is\",name)\n",
    "    print('branch is',branch)\n",
    "    print('clg name is',clg)\n",
    "keyword(branch=branch,name=name,clg=clg)"
   ]
  },
  {
   "cell_type": "code",
   "execution_count": 54,
   "metadata": {},
   "outputs": [
    {
     "name": "stdout",
     "output_type": "stream",
     "text": [
      "archana\n",
      "cse\n",
      "gec\n"
     ]
    },
    {
     "ename": "TypeError",
     "evalue": "keyword() missing 1 required positional argument: 'clg'",
     "output_type": "error",
     "traceback": [
      "\u001b[1;31m---------------------------------------------------------------------------\u001b[0m",
      "\u001b[1;31mTypeError\u001b[0m                                 Traceback (most recent call last)",
      "\u001b[1;32m<ipython-input-54-06096f05d120>\u001b[0m in \u001b[0;36m<module>\u001b[1;34m\u001b[0m\n\u001b[0;32m      6\u001b[0m     \u001b[0mprint\u001b[0m\u001b[1;33m(\u001b[0m\u001b[1;34m'branch is'\u001b[0m\u001b[1;33m,\u001b[0m\u001b[0mbranch\u001b[0m\u001b[1;33m)\u001b[0m\u001b[1;33m\u001b[0m\u001b[1;33m\u001b[0m\u001b[0m\n\u001b[0;32m      7\u001b[0m     \u001b[0mprint\u001b[0m\u001b[1;33m(\u001b[0m\u001b[1;34m'clg name is'\u001b[0m\u001b[1;33m,\u001b[0m\u001b[0mclg\u001b[0m\u001b[1;33m)\u001b[0m\u001b[1;33m\u001b[0m\u001b[1;33m\u001b[0m\u001b[0m\n\u001b[1;32m----> 8\u001b[1;33m \u001b[0mkeyword\u001b[0m\u001b[1;33m(\u001b[0m\u001b[0mbranch\u001b[0m\u001b[1;33m=\u001b[0m\u001b[0mbranch\u001b[0m\u001b[1;33m,\u001b[0m\u001b[0mname\u001b[0m\u001b[1;33m=\u001b[0m\u001b[0mname\u001b[0m\u001b[1;33m)\u001b[0m\u001b[1;33m\u001b[0m\u001b[1;33m\u001b[0m\u001b[0m\n\u001b[0m",
      "\u001b[1;31mTypeError\u001b[0m: keyword() missing 1 required positional argument: 'clg'"
     ]
    }
   ],
   "source": [
    "name = input()\n",
    "branch = input()\n",
    "clg = input()\n",
    "def keyword(branch,clg,name):\n",
    "    print(\"name is\",name)\n",
    "    print('branch is',branch)\n",
    "    print('clg name is',clg)\n",
    "keyword(branch=branch,name=name)"
   ]
  },
  {
   "cell_type": "code",
   "execution_count": 60,
   "metadata": {},
   "outputs": [
    {
     "name": "stdout",
     "output_type": "stream",
     "text": [
      "sdfghj\n"
     ]
    }
   ],
   "source": [
    "#variable length arg\n",
    "def variable(*arg):\n",
    "    print(arg[2])\n",
    "variable(\"abc\",\"123\",\"sdfghj\",'edrftghyj')"
   ]
  },
  {
   "cell_type": "code",
   "execution_count": 61,
   "metadata": {},
   "outputs": [
    {
     "name": "stdout",
     "output_type": "stream",
     "text": [
      "archana abs code\n",
      "code\n"
     ]
    }
   ],
   "source": [
    "#variable length arg\n",
    "def variable(*arg):\n",
    "    print(n[2])\n",
    "n = input().split()\n",
    "variable(n)"
   ]
  },
  {
   "cell_type": "code",
   "execution_count": 62,
   "metadata": {},
   "outputs": [
    {
     "name": "stdout",
     "output_type": "stream",
     "text": [
      "apssdc\n"
     ]
    }
   ],
   "source": [
    "def names(*nam):\n",
    "    print(nam[-1])\n",
    "names(\"archana\",\"cse\",\"gec\",\"apssdc\")"
   ]
  },
  {
   "cell_type": "code",
   "execution_count": 63,
   "metadata": {},
   "outputs": [
    {
     "name": "stdout",
     "output_type": "stream",
     "text": [
      "apssdcarchana\n"
     ]
    }
   ],
   "source": [
    "def names(*nam):\n",
    "    print(nam[-1]+nam[0])\n",
    "names(\"archana\",\"cse\",\"gec\",\"apssdc\")"
   ]
  },
  {
   "cell_type": "code",
   "execution_count": null,
   "metadata": {},
   "outputs": [],
   "source": []
  }
 ],
 "metadata": {
  "kernelspec": {
   "display_name": "Python 3",
   "language": "python",
   "name": "python3"
  },
  "language_info": {
   "codemirror_mode": {
    "name": "ipython",
    "version": 3
   },
   "file_extension": ".py",
   "mimetype": "text/x-python",
   "name": "python",
   "nbconvert_exporter": "python",
   "pygments_lexer": "ipython3",
   "version": "3.7.3"
  }
 },
 "nbformat": 4,
 "nbformat_minor": 2
}
